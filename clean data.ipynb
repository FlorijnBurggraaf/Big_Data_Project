{
 "cells": [
  {
   "cell_type": "code",
   "execution_count": 1,
   "metadata": {},
   "outputs": [],
   "source": [
    "import numpy as np\n",
    "import pandas as pd"
   ]
  },
  {
   "cell_type": "code",
   "execution_count": 3,
   "metadata": {},
   "outputs": [],
   "source": [
    "# raw_reader = pd.read_excel('/Users/sufe8001/Documents/Uva/Big Data/project/practice/msft_tweets-1.xlsx')\n",
    "\n",
    "raw_reader = pd.read_csv('msft_tweets.csv')"
   ]
  },
  {
   "cell_type": "markdown",
   "metadata": {},
   "source": [
    "## Remove urls"
   ]
  },
  {
   "cell_type": "raw",
   "metadata": {},
   "source": [
    "# !pwd\n",
    "import re\n",
    "def remove_urls(name):\n",
    "    return ' URL '.join(re.sub(\"((https?):((//)|(\\\\\\\\))+([\\w\\d:#@%/;$()~_?\\+-=\\\\\\.&](#!)?)*)\",\" \",name).split())"
   ]
  },
  {
   "cell_type": "raw",
   "metadata": {},
   "source": [
    "def remove_users(name):\n",
    "    return ' USER '.join(re.sub(\"(@[A-Za-z0-9]+)|([^0-9A-Za-z \\t])|(\\w+:\\/\\/\\S+)\",\" \",name).split())"
   ]
  },
  {
   "cell_type": "code",
   "execution_count": 5,
   "metadata": {},
   "outputs": [],
   "source": [
    "remove_url_reader = raw_reader.replace({'((https?):((//)|(\\\\\\\\))+([\\w\\d:#@%/;$()~_?\\+-=\\\\\\.&](#!)?)*)':' URL '}, regex=True)"
   ]
  },
  {
   "cell_type": "markdown",
   "metadata": {},
   "source": [
    "## Remove @User"
   ]
  },
  {
   "cell_type": "code",
   "execution_count": 6,
   "metadata": {},
   "outputs": [],
   "source": [
    "remove_user_reader = remove_url_reader.replace({'(@[A-Za-z0-9]+)':' USER '}, regex=True)"
   ]
  },
  {
   "cell_type": "markdown",
   "metadata": {},
   "source": [
    "## Remove hashtags"
   ]
  },
  {
   "cell_type": "code",
   "execution_count": 8,
   "metadata": {},
   "outputs": [],
   "source": [
    "remove_hashtags_reader = remove_user_reader.replace({'#':''}, regex=True)"
   ]
  },
  {
   "cell_type": "markdown",
   "metadata": {},
   "source": [
    "## Remove $ sign"
   ]
  },
  {
   "cell_type": "code",
   "execution_count": 10,
   "metadata": {},
   "outputs": [],
   "source": [
    "remove_hashtags_reader['message'] = remove_hashtags_reader['message'].apply(lambda x: x.replace('$',''))"
   ]
  },
  {
   "cell_type": "markdown",
   "metadata": {},
   "source": [
    "## Stemming"
   ]
  },
  {
   "cell_type": "code",
   "execution_count": 12,
   "metadata": {},
   "outputs": [],
   "source": [
    "from nltk.stem import PorterStemmer\n",
    "porter = PorterStemmer()"
   ]
  },
  {
   "cell_type": "code",
   "execution_count": 13,
   "metadata": {},
   "outputs": [],
   "source": [
    "remove_hashtags_reader['message2'] = remove_hashtags_reader['message'].apply(lambda x: ' '.join([porter.stem(word) for word in x.split()]))"
   ]
  },
  {
   "cell_type": "code",
   "execution_count": 14,
   "metadata": {},
   "outputs": [
    {
     "data": {
      "text/html": [
       "<div>\n",
       "<style scoped>\n",
       "    .dataframe tbody tr th:only-of-type {\n",
       "        vertical-align: middle;\n",
       "    }\n",
       "\n",
       "    .dataframe tbody tr th {\n",
       "        vertical-align: top;\n",
       "    }\n",
       "\n",
       "    .dataframe thead th {\n",
       "        text-align: right;\n",
       "    }\n",
       "</style>\n",
       "<table border=\"1\" class=\"dataframe\">\n",
       "  <thead>\n",
       "    <tr style=\"text-align: right;\">\n",
       "      <th></th>\n",
       "      <th>date</th>\n",
       "      <th>message</th>\n",
       "      <th>sentiment</th>\n",
       "      <th>message2</th>\n",
       "    </tr>\n",
       "  </thead>\n",
       "  <tbody>\n",
       "    <tr>\n",
       "      <th>0</th>\n",
       "      <td>2014-01-01</td>\n",
       "      <td>\" USER  shocking that MSFT is missing this opp...</td>\n",
       "      <td>2.0</td>\n",
       "      <td>\" user shock that msft is miss thi opportunity\"</td>\n",
       "    </tr>\n",
       "    <tr>\n",
       "      <th>1</th>\n",
       "      <td>2014-01-01</td>\n",
       "      <td>\"RT  USER : Stocks to Watch for January 2, 201...</td>\n",
       "      <td>1.0</td>\n",
       "      <td>\"rt user : stock to watch for januari 2, 2014 ...</td>\n",
       "    </tr>\n",
       "    <tr>\n",
       "      <th>2</th>\n",
       "      <td>2014-01-01</td>\n",
       "      <td>\"Stocks to Watch for January 2, 2014  URL  GUR...</td>\n",
       "      <td>1.0</td>\n",
       "      <td>\"stock to watch for januari 2, 2014 url gure i...</td>\n",
       "    </tr>\n",
       "    <tr>\n",
       "      <th>3</th>\n",
       "      <td>2014-01-01</td>\n",
       "      <td>\"Dow Stocks Trend AXP UTX CSCO KO HD DIS V IBM...</td>\n",
       "      <td>0.0</td>\n",
       "      <td>\"dow stock trend axp utx csco KO HD di V ibm D...</td>\n",
       "    </tr>\n",
       "    <tr>\n",
       "      <th>4</th>\n",
       "      <td>2014-01-02</td>\n",
       "      <td>\"Microsoft Corporation : Microsoft Assigned Pa...</td>\n",
       "      <td>1.0</td>\n",
       "      <td>\"microsoft corpor : microsoft assign patent ms...</td>\n",
       "    </tr>\n",
       "    <tr>\n",
       "      <th>5</th>\n",
       "      <td>2014-01-02</td>\n",
       "      <td>\"Corporate 'Miserliness' In The United States:...</td>\n",
       "      <td>2.0</td>\n",
       "      <td>\"corpor 'miserliness' In the unit states: the ...</td>\n",
       "    </tr>\n",
       "    <tr>\n",
       "      <th>6</th>\n",
       "      <td>2014-01-02</td>\n",
       "      <td>\"MSFT - [video] Fords Mulally should be frontr...</td>\n",
       "      <td>2.0</td>\n",
       "      <td>\"msft - [video] ford mulal should be frontrunn...</td>\n",
       "    </tr>\n",
       "    <tr>\n",
       "      <th>7</th>\n",
       "      <td>2014-01-02</td>\n",
       "      <td>\"MSFT wants to soar with eagles but keeps look...</td>\n",
       "      <td>2.0</td>\n",
       "      <td>\"msft want to soar with eagl but keep look amo...</td>\n",
       "    </tr>\n",
       "    <tr>\n",
       "      <th>8</th>\n",
       "      <td>2014-01-02</td>\n",
       "      <td>\"Following SnapChat.  Skype twitter and blog h...</td>\n",
       "      <td>2.0</td>\n",
       "      <td>\"follow snapchat. skype twitter and blog hacke...</td>\n",
       "    </tr>\n",
       "    <tr>\n",
       "      <th>9</th>\n",
       "      <td>2014-01-02</td>\n",
       "      <td>\"MSFT [video] Fiat Takes Full Control of Chrys...</td>\n",
       "      <td>0.0</td>\n",
       "      <td>\"msft [video] fiat take full control of chrysl...</td>\n",
       "    </tr>\n",
       "  </tbody>\n",
       "</table>\n",
       "</div>"
      ],
      "text/plain": [
       "         date                                            message  sentiment  \\\n",
       "0  2014-01-01  \" USER  shocking that MSFT is missing this opp...        2.0   \n",
       "1  2014-01-01  \"RT  USER : Stocks to Watch for January 2, 201...        1.0   \n",
       "2  2014-01-01  \"Stocks to Watch for January 2, 2014  URL  GUR...        1.0   \n",
       "3  2014-01-01  \"Dow Stocks Trend AXP UTX CSCO KO HD DIS V IBM...        0.0   \n",
       "4  2014-01-02  \"Microsoft Corporation : Microsoft Assigned Pa...        1.0   \n",
       "5  2014-01-02  \"Corporate 'Miserliness' In The United States:...        2.0   \n",
       "6  2014-01-02  \"MSFT - [video] Fords Mulally should be frontr...        2.0   \n",
       "7  2014-01-02  \"MSFT wants to soar with eagles but keeps look...        2.0   \n",
       "8  2014-01-02  \"Following SnapChat.  Skype twitter and blog h...        2.0   \n",
       "9  2014-01-02  \"MSFT [video] Fiat Takes Full Control of Chrys...        0.0   \n",
       "\n",
       "                                            message2  \n",
       "0    \" user shock that msft is miss thi opportunity\"  \n",
       "1  \"rt user : stock to watch for januari 2, 2014 ...  \n",
       "2  \"stock to watch for januari 2, 2014 url gure i...  \n",
       "3  \"dow stock trend axp utx csco KO HD di V ibm D...  \n",
       "4  \"microsoft corpor : microsoft assign patent ms...  \n",
       "5  \"corpor 'miserliness' In the unit states: the ...  \n",
       "6  \"msft - [video] ford mulal should be frontrunn...  \n",
       "7  \"msft want to soar with eagl but keep look amo...  \n",
       "8  \"follow snapchat. skype twitter and blog hacke...  \n",
       "9  \"msft [video] fiat take full control of chrysl...  "
      ]
     },
     "execution_count": 14,
     "metadata": {},
     "output_type": "execute_result"
    }
   ],
   "source": [
    "remove_hashtags_reader.head(10)"
   ]
  },
  {
   "cell_type": "code",
   "execution_count": null,
   "metadata": {},
   "outputs": [],
   "source": []
  }
 ],
 "metadata": {
  "kernelspec": {
   "display_name": "Python 3",
   "language": "python",
   "name": "python3"
  },
  "language_info": {
   "codemirror_mode": {
    "name": "ipython",
    "version": 3
   },
   "file_extension": ".py",
   "mimetype": "text/x-python",
   "name": "python",
   "nbconvert_exporter": "python",
   "pygments_lexer": "ipython3",
   "version": "3.7.1"
  }
 },
 "nbformat": 4,
 "nbformat_minor": 2
}
