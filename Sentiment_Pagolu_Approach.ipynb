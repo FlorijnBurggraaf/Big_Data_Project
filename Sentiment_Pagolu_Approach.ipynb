{
 "cells": [
  {
   "cell_type": "code",
   "execution_count": 31,
   "metadata": {},
   "outputs": [],
   "source": [
    "import pandas as pd\n",
    "import gensim\n",
    "from nltk.tokenize.casual import TweetTokenizer\n",
    "from nltk.corpus import stopwords\n",
    "from nltk.stem.snowball import SnowballStemmer\n",
    "import re\n",
    "from sklearn.ensemble import RandomForestClassifier\n",
    "from sklearn.model_selection import train_test_split\n",
    "from sklearn.metrics import accuracy_score"
   ]
  },
  {
   "cell_type": "code",
   "execution_count": 2,
   "metadata": {},
   "outputs": [
    {
     "data": {
      "text/html": [
       "<div>\n",
       "<style scoped>\n",
       "    .dataframe tbody tr th:only-of-type {\n",
       "        vertical-align: middle;\n",
       "    }\n",
       "\n",
       "    .dataframe tbody tr th {\n",
       "        vertical-align: top;\n",
       "    }\n",
       "\n",
       "    .dataframe thead th {\n",
       "        text-align: right;\n",
       "    }\n",
       "</style>\n",
       "<table border=\"1\" class=\"dataframe\">\n",
       "  <thead>\n",
       "    <tr style=\"text-align: right;\">\n",
       "      <th></th>\n",
       "      <th>date</th>\n",
       "      <th>message</th>\n",
       "      <th>sentiment</th>\n",
       "    </tr>\n",
       "  </thead>\n",
       "  <tbody>\n",
       "    <tr>\n",
       "      <th>0</th>\n",
       "      <td>2014-01-01</td>\n",
       "      <td>\"@BenedictEvans shocking that $MSFT is missing...</td>\n",
       "      <td>2.0</td>\n",
       "    </tr>\n",
       "    <tr>\n",
       "      <th>1</th>\n",
       "      <td>2014-01-01</td>\n",
       "      <td>\"RT @ACInvestorBlog: Stocks to Watch for Janua...</td>\n",
       "      <td>1.0</td>\n",
       "    </tr>\n",
       "    <tr>\n",
       "      <th>2</th>\n",
       "      <td>2014-01-01</td>\n",
       "      <td>\"Stocks to Watch for January 2, 2014 http:\\/\\/...</td>\n",
       "      <td>1.0</td>\n",
       "    </tr>\n",
       "    <tr>\n",
       "      <th>3</th>\n",
       "      <td>2014-01-01</td>\n",
       "      <td>\"Dow #Stocks Trend $AXP $UTX $CSCO $KO $HD $DI...</td>\n",
       "      <td>0.0</td>\n",
       "    </tr>\n",
       "    <tr>\n",
       "      <th>4</th>\n",
       "      <td>2014-01-02</td>\n",
       "      <td>\"Microsoft Corporation : Microsoft Assigned Pa...</td>\n",
       "      <td>1.0</td>\n",
       "    </tr>\n",
       "  </tbody>\n",
       "</table>\n",
       "</div>"
      ],
      "text/plain": [
       "         date                                            message  sentiment\n",
       "0  2014-01-01  \"@BenedictEvans shocking that $MSFT is missing...        2.0\n",
       "1  2014-01-01  \"RT @ACInvestorBlog: Stocks to Watch for Janua...        1.0\n",
       "2  2014-01-01  \"Stocks to Watch for January 2, 2014 http:\\/\\/...        1.0\n",
       "3  2014-01-01  \"Dow #Stocks Trend $AXP $UTX $CSCO $KO $HD $DI...        0.0\n",
       "4  2014-01-02  \"Microsoft Corporation : Microsoft Assigned Pa...        1.0"
      ]
     },
     "execution_count": 2,
     "metadata": {},
     "output_type": "execute_result"
    }
   ],
   "source": [
    "df = pd.read_csv('msft_tweets - msft_tweets.csv')\n",
    "df.head()"
   ]
  },
  {
   "cell_type": "code",
   "execution_count": 12,
   "metadata": {},
   "outputs": [],
   "source": [
    "tokenizer  = TweetTokenizer()\n",
    "from nltk.stem.snowball import SnowballStemmer\n",
    "stemmer = SnowballStemmer(\"english\")\n",
    "\n",
    "def clean(message):\n",
    "    message = message.lower()\n",
    "    message = re.sub(r\"[^A-Za-z0-9]\", \" \", message)\n",
    "    message = message.split()\n",
    "    message = [stemmer.stem(word) for word in message]\n",
    "    return message"
   ]
  },
  {
   "cell_type": "code",
   "execution_count": 13,
   "metadata": {},
   "outputs": [],
   "source": [
    "message_list = df['message'].tolist()\n",
    "cleaned_message_list = [clean(message) for message in message_list]\n",
    "\n",
    "# build vocabulary and train model\n",
    "model = gensim.models.Word2Vec(\n",
    "    cleaned_message_list,\n",
    "    size=300,\n",
    "    window=10,\n",
    "    min_count=1,\n",
    "    workers=10)\n",
    "model.train(cleaned_message_list, total_examples=len(cleaned_message_list), epochs=30)\n",
    "\n",
    "model.save('stockTweetsEmbedding')"
   ]
  },
  {
   "cell_type": "code",
   "execution_count": 17,
   "metadata": {},
   "outputs": [],
   "source": [
    "embeddedlist = [sum([model.wv.word_vec(word) for word in message]) for message in cleaned_message_list]"
   ]
  },
  {
   "cell_type": "code",
   "execution_count": 24,
   "metadata": {},
   "outputs": [],
   "source": [
    "labelled_data = embeddedlist[:200] + embeddedlist[300:399]\n",
    "sentiment_list = df['sentiment'].tolist()\n",
    "labels = [int(sentiment) for sentiment in (sentiment_list[:200] + sentiment_list[300:399])]"
   ]
  },
  {
   "cell_type": "code",
   "execution_count": 36,
   "metadata": {},
   "outputs": [
    {
     "name": "stdout",
     "output_type": "stream",
     "text": [
      "0.5666666666666667\n"
     ]
    }
   ],
   "source": [
    "X_train, X_test, y_train, y_test = train_test_split(labelled_data, labels, test_size=0.1)\n",
    "\n",
    "clf = RandomForestClassifier()\n",
    "clf.fit(X_train, y_train)\n",
    "predictions = clf.predict(X_test)\n",
    "print(accuracy_score(y_test, predictions))"
   ]
  },
  {
   "cell_type": "code",
   "execution_count": null,
   "metadata": {},
   "outputs": [],
   "source": []
  }
 ],
 "metadata": {
  "kernelspec": {
   "display_name": "Python 3",
   "language": "python",
   "name": "python3"
  },
  "language_info": {
   "codemirror_mode": {
    "name": "ipython",
    "version": 3
   },
   "file_extension": ".py",
   "mimetype": "text/x-python",
   "name": "python",
   "nbconvert_exporter": "python",
   "pygments_lexer": "ipython3",
   "version": "3.6.5"
  }
 },
 "nbformat": 4,
 "nbformat_minor": 2
}
