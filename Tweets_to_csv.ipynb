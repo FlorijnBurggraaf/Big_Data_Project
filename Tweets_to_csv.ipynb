{
 "cells": [
  {
   "cell_type": "code",
   "execution_count": 68,
   "metadata": {},
   "outputs": [],
   "source": [
    "import os\n",
    "import json\n",
    "import pandas as pd"
   ]
  },
  {
   "cell_type": "code",
   "execution_count": 44,
   "metadata": {},
   "outputs": [],
   "source": [
    "def month_to_num(month):\n",
    "    if month == 'Jan':\n",
    "        return '01'\n",
    "    elif month == 'Feb':\n",
    "        return '02'\n",
    "    elif month == 'Mar':\n",
    "        return '03'\n",
    "    elif month == 'Apr':\n",
    "        return '04'\n",
    "    elif month == 'May':\n",
    "        return '05'\n",
    "    elif month == 'Jun':\n",
    "        return '06'\n",
    "    elif month == 'Jul':\n",
    "        return '07'\n",
    "    elif month == 'Aug':\n",
    "        return '08'\n",
    "    elif month == 'Sep':\n",
    "        return '09'\n",
    "    elif month == 'Oct':\n",
    "        return '10'\n",
    "    elif month == 'Nov':\n",
    "        return '11'\n",
    "    elif month == 'Dec':\n",
    "        return '12'\n",
    "    else:\n",
    "        return ''"
   ]
  },
  {
   "cell_type": "code",
   "execution_count": 78,
   "metadata": {},
   "outputs": [
    {
     "name": "stdout",
     "output_type": "stream",
     "text": [
      "4535\n",
      "3814\n"
     ]
    }
   ],
   "source": [
    "tweet_directory = \"C:\\\\Users\\\\flori\\\\Downloads\\\\stocknet-dataset-master\\\\tweet\"\n",
    "msft_raw_dir = tweet_directory+'\\\\raw\\\\MSFT'\n",
    "msft_preprocessed_dir = tweet_directory+'\\\\preprocessed\\\\MSFT'\n",
    "\n",
    "dates = []\n",
    "rawtext = []\n",
    "\n",
    "count = 0 #total: 4535, 3814 with duplicate messages removed\n",
    "for file in os.listdir(msft_raw_dir):\n",
    "    file = msft_raw_dir + '\\\\' + file\n",
    "    with open(file, 'r', encoding='utf-8') as f:\n",
    "        text = f.read()\n",
    "        tweets = text.split('{\"created_at\":')[1:]\n",
    "        for tweet in tweets:\n",
    "            count += 1\n",
    "            date = tweet.split(',')[0].replace('\"','')\n",
    "            dateparts = date.split(' ')\n",
    "            month = month_to_num(dateparts[1])\n",
    "            day = dateparts[2]\n",
    "            year = dateparts[5]\n",
    "            date = year+'-'+month+'-'+day\n",
    "            dates.append(date)\n",
    "            content = '\"'+tweet.split('\"text\":')[1].split(',\"source\"')[0].replace('\"','')+'\"'\n",
    "            rawtext.append(content)\n",
    "print(count)\n",
    "\n",
    "print(len(list(set(rawtext))))"
   ]
  },
  {
   "cell_type": "code",
   "execution_count": 77,
   "metadata": {},
   "outputs": [],
   "source": [
    "df = pd.DataFrame({'date':dates,'message':rawtext})\n",
    "df.drop_duplicates(inplace=True)\n",
    "df.head()\n",
    "df.to_csv('msft_tweets.csv', encoding= 'utf-8', index=None)"
   ]
  },
  {
   "cell_type": "code",
   "execution_count": 79,
   "metadata": {},
   "outputs": [
    {
     "name": "stdout",
     "output_type": "stream",
     "text": [
      "3117\n",
      "2680\n"
     ]
    }
   ],
   "source": [
    "count = 0 #total: 3117, 2680 with duplicate messages removed\n",
    "preprocessed = []\n",
    "\n",
    "for file in os.listdir(msft_preprocessed_dir):\n",
    "    file = msft_preprocessed_dir + '\\\\' + file\n",
    "    with open(file, 'r', encoding='utf-8') as f:\n",
    "        text = f.read()\n",
    "        tweets = text.split('{\"text\":')[1:]\n",
    "        for tweet in tweets:\n",
    "            count += 1\n",
    "            date = tweet.split(', \"created_at\": \"')[1].split('\", \"user_id_str\":')[0]\n",
    "            dateparts = date.split(' ')\n",
    "            month = month_to_num(dateparts[1])\n",
    "            day = dateparts[2]\n",
    "            year = dateparts[5]\n",
    "            date = year+'-'+month+'-'+day\n",
    "            #dates.append(date)\n",
    "            content = tweet.split(', \"created_at\":')[0]\n",
    "            preprocessed.append(content)\n",
    "print(count)\n",
    "print(len(list(set(preprocessed))))"
   ]
  },
  {
   "cell_type": "code",
   "execution_count": null,
   "metadata": {},
   "outputs": [],
   "source": []
  }
 ],
 "metadata": {
  "kernelspec": {
   "display_name": "Python 3",
   "language": "python",
   "name": "python3"
  },
  "language_info": {
   "codemirror_mode": {
    "name": "ipython",
    "version": 3
   },
   "file_extension": ".py",
   "mimetype": "text/x-python",
   "name": "python",
   "nbconvert_exporter": "python",
   "pygments_lexer": "ipython3",
   "version": "3.6.5"
  }
 },
 "nbformat": 4,
 "nbformat_minor": 2
}
